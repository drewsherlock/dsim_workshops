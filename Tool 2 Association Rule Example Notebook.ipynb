{
 "cells": [
  {
   "cell_type": "markdown",
   "id": "democratic-attitude",
   "metadata": {},
   "source": [
    "## Finding sets of items that commonly occur together in a dataset\n",
    "The Apriori Algorithm is a way of finding \"Association rules\" between items in dataset.\n",
    "It is famously use in supermarkets to identify patterns in the choice of items that customers \n",
    "put in their shopping basket.For example, the rule [onions, potatoes] => [burger] found in the \n",
    "sales data of a supermarket would indicate that if a customer buys onions \n",
    "and potatoes together, they are likely to also buy burgers.\n",
    "\n",
    "Given a shopping basket: \n",
    "<img src= https://m.media-amazon.com/images/I/71yi45a8U1L._AC_SX679_.jpg  width=\"300\">\n",
    "\n",
    "Association Rule analysis was developed to answer this question:\n",
    "\n",
    "<img src= https://editor.analyticsvidhya.com/uploads/13952Market-basket-analysis.png  width=\"500\">\n",
    "\n",
    "But it has found many applications beyond supermarkets for identfying patterns of occurance in many dataset"
   ]
  },
  {
   "cell_type": "markdown",
   "id": "wanted-senate",
   "metadata": {},
   "source": [
    "The contents of 5 shopping baskets might look like this:\n",
    "\n",
    "<img src= https://miro.medium.com/max/940/1*908489_PRdpPMctC6MT6OQ.png   width=\"300\">\n",
    "\n",
    "It could be represented as:\n",
    "\n",
    "<img src= https://miro.medium.com/max/854/1*V-ODhD4KOevmBBDTFKiHUA.png   width=\"300\">\n",
    "\n",
    "The associations rules could be:\n",
    "\n",
    "<img src= https://miro.medium.com/max/770/1*meE1hYNAn0B9iV6DQznBXg.png   width=\"300\">\n",
    "\n",
    "where: \"Support\" defines how much historical data supports the rule and \"Confidence\" indicates probility that the rule holds."
   ]
  },
  {
   "cell_type": "code",
   "execution_count": 1,
   "id": "latin-bahrain",
   "metadata": {},
   "outputs": [],
   "source": [
    "!pip install apyori --quiet #Install the apyori library "
   ]
  },
  {
   "cell_type": "code",
   "execution_count": 2,
   "id": "changed-creation",
   "metadata": {},
   "outputs": [],
   "source": [
    "import numpy as np\n",
    "import matplotlib.pyplot as plt\n",
    "import pandas as pd\n",
    "import io"
   ]
  },
  {
   "cell_type": "markdown",
   "id": "accredited-invalid",
   "metadata": {},
   "source": [
    "### Load the data from csv file describing the content of shopping baskets \n",
    "Every row defines the contents of a different basket, every column has the name of a different item in the basket."
   ]
  },
  {
   "cell_type": "code",
   "execution_count": 3,
   "id": "preliminary-miami",
   "metadata": {},
   "outputs": [],
   "source": [
    "pd.set_option('display.max_columns', 6)\n",
    "df2=pd.read_csv(\"groceriesDS4M.csv\")   "
   ]
  },
  {
   "cell_type": "code",
   "execution_count": 4,
   "id": "missing-funds",
   "metadata": {},
   "outputs": [
    {
     "data": {
      "text/html": [
       "<div>\n",
       "<style scoped>\n",
       "    .dataframe tbody tr th:only-of-type {\n",
       "        vertical-align: middle;\n",
       "    }\n",
       "\n",
       "    .dataframe tbody tr th {\n",
       "        vertical-align: top;\n",
       "    }\n",
       "\n",
       "    .dataframe thead th {\n",
       "        text-align: right;\n",
       "    }\n",
       "</style>\n",
       "<table border=\"1\" class=\"dataframe\">\n",
       "  <thead>\n",
       "    <tr style=\"text-align: right;\">\n",
       "      <th></th>\n",
       "      <th>Item 1</th>\n",
       "      <th>Item 2</th>\n",
       "      <th>Item 3</th>\n",
       "      <th>...</th>\n",
       "      <th>Item 30</th>\n",
       "      <th>Item 31</th>\n",
       "      <th>Item 32</th>\n",
       "    </tr>\n",
       "  </thead>\n",
       "  <tbody>\n",
       "    <tr>\n",
       "      <th>0</th>\n",
       "      <td>citrus fruit</td>\n",
       "      <td>semi-finished bread</td>\n",
       "      <td>margarine</td>\n",
       "      <td>...</td>\n",
       "      <td>NaN</td>\n",
       "      <td>NaN</td>\n",
       "      <td>NaN</td>\n",
       "    </tr>\n",
       "    <tr>\n",
       "      <th>1</th>\n",
       "      <td>tropical fruit</td>\n",
       "      <td>yogurt</td>\n",
       "      <td>coffee</td>\n",
       "      <td>...</td>\n",
       "      <td>NaN</td>\n",
       "      <td>NaN</td>\n",
       "      <td>NaN</td>\n",
       "    </tr>\n",
       "    <tr>\n",
       "      <th>2</th>\n",
       "      <td>whole milk</td>\n",
       "      <td>NaN</td>\n",
       "      <td>NaN</td>\n",
       "      <td>...</td>\n",
       "      <td>NaN</td>\n",
       "      <td>NaN</td>\n",
       "      <td>NaN</td>\n",
       "    </tr>\n",
       "    <tr>\n",
       "      <th>3</th>\n",
       "      <td>pip fruit</td>\n",
       "      <td>yogurt</td>\n",
       "      <td>cream cheese</td>\n",
       "      <td>...</td>\n",
       "      <td>NaN</td>\n",
       "      <td>NaN</td>\n",
       "      <td>NaN</td>\n",
       "    </tr>\n",
       "  </tbody>\n",
       "</table>\n",
       "<p>4 rows × 32 columns</p>\n",
       "</div>"
      ],
      "text/plain": [
       "           Item 1               Item 2        Item 3  ... Item 30 Item 31  \\\n",
       "0    citrus fruit  semi-finished bread     margarine  ...     NaN     NaN   \n",
       "1  tropical fruit               yogurt        coffee  ...     NaN     NaN   \n",
       "2      whole milk                  NaN           NaN  ...     NaN     NaN   \n",
       "3       pip fruit               yogurt  cream cheese  ...     NaN     NaN   \n",
       "\n",
       "  Item 32  \n",
       "0     NaN  \n",
       "1     NaN  \n",
       "2     NaN  \n",
       "3     NaN  \n",
       "\n",
       "[4 rows x 32 columns]"
      ]
     },
     "execution_count": 4,
     "metadata": {},
     "output_type": "execute_result"
    }
   ],
   "source": [
    "df2.head(4)  #see the data, the first shopping basket contains citrus fruit, semi-finished bread, margarine ..etc"
   ]
  },
  {
   "cell_type": "code",
   "execution_count": 5,
   "id": "worse-vaccine",
   "metadata": {},
   "outputs": [
    {
     "data": {
      "text/plain": [
       "(9835, 32)"
      ]
     },
     "execution_count": 5,
     "metadata": {},
     "output_type": "execute_result"
    }
   ],
   "source": [
    "df2.shape #The dataset has 9836 shopping baskets shopping baskets, containing a maximum of 32 items"
   ]
  },
  {
   "cell_type": "code",
   "execution_count": 6,
   "id": "developmental-phoenix",
   "metadata": {},
   "outputs": [],
   "source": [
    "# find item sets \n",
    "from apyori import apriori"
   ]
  },
  {
   "cell_type": "code",
   "execution_count": 7,
   "id": "previous-abortion",
   "metadata": {},
   "outputs": [
    {
     "name": "stdout",
     "output_type": "stream",
     "text": [
      "Transaction 1: citrus fruit semi-finished bread margarine ready soups\n",
      "Transaction 2: tropical fruit yogurt coffee nan\n"
     ]
    }
   ],
   "source": [
    "# Fill an array of with the items in each row of the dataset\n",
    "transactions = []\n",
    "for i in range(0, 5000):\n",
    "  transactions.append([str(df2.values[i,j]) for j in range(0, 20)])\n",
    "\n",
    "# Just for illustration  \n",
    "print(\"Transaction 1:\", transactions[0][0], transactions[0][1], transactions[0][2], transactions[0][3])\n",
    "print(\"Transaction 2:\",transactions[1][0], transactions[1][1], transactions[1][2], transactions[1][3])"
   ]
  },
  {
   "cell_type": "markdown",
   "id": "working-syria",
   "metadata": {},
   "source": [
    "## Call the Apriori function with arguments that define:\n",
    "* **Items** in a transaction form an item set\n",
    "* **Support** refers to items’ frequency of occurrence of items in the data set\n",
    "* **Confidence** is the probability of the association occuring \n",
    "* **Lift** basically tells us that the likelihood of buying a Burger and Ketchup together is, say, 3.33 times more than the  likelihood of just buying the ketchup. A Lift of 1 means there is no association between products A and B. Lift of greater than 1 means products A and B are more likely to be bought together.\n",
    "* **min_length** defines the number of items to find associations between\n"
   ]
  },
  {
   "cell_type": "code",
   "execution_count": 8,
   "id": "dynamic-thickness",
   "metadata": {},
   "outputs": [],
   "source": [
    "rules = apriori(transactions = transactions, min_support = 0.003, min_confidence = 0.3, min_lift = 3, min_length = 2, max_length = 2)"
   ]
  },
  {
   "cell_type": "code",
   "execution_count": 9,
   "id": "nutritional-heater",
   "metadata": {},
   "outputs": [],
   "source": [
    "# Python's list() constructor changes the rules data structure to a lsit \n",
    "results = list(rules)"
   ]
  },
  {
   "cell_type": "code",
   "execution_count": 10,
   "id": "painful-clothing",
   "metadata": {},
   "outputs": [],
   "source": [
    "def inspect(results): # define a function for printing out the results\n",
    "    product1 = [tuple(result[2][0][0])[0] for result in results]\n",
    "    product2 = [tuple(result[2][0][1])[0] for result in results]\n",
    "    supports = [result[1] for result in results]\n",
    "    confidences = [result[2][0][2] for result in results]\n",
    "    lifts  = [result[2][0][3] for result in results]\n",
    "    return list(zip(product1, product2, supports, confidences, lifts))"
   ]
  },
  {
   "cell_type": "markdown",
   "id": "bacterial-solid",
   "metadata": {},
   "source": [
    "# Extract the associations found "
   ]
  },
  {
   "cell_type": "code",
   "execution_count": 11,
   "id": "alpine-mouse",
   "metadata": {},
   "outputs": [],
   "source": [
    "AssociatedItems = pd.DataFrame(inspect(results), columns = ['product1', 'product2', 'Support', 'Confidence', 'Lift'])"
   ]
  },
  {
   "cell_type": "markdown",
   "id": "prompt-fifteen",
   "metadata": {},
   "source": [
    "# Print out the top associations find between items in shoping baskets \n"
   ]
  },
  {
   "cell_type": "code",
   "execution_count": 12,
   "id": "reduced-armor",
   "metadata": {},
   "outputs": [
    {
     "name": "stdout",
     "output_type": "stream",
     "text": [
      "           product1            product2  Support  Confidence      Lift\n",
      "0     baking powder  whipped/sour cream   0.0062    0.326316  4.293629\n",
      "1            liquor        bottled beer   0.0042    0.396226  4.739550\n",
      "2            grapes      tropical fruit   0.0064    0.344086  3.393353\n",
      "3  processed cheese         white bread   0.0048    0.315789  7.483163\n",
      "4     roll products     root vegetables   0.0042    0.355932  3.095063\n"
     ]
    }
   ],
   "source": [
    "print(AssociatedItems)"
   ]
  },
  {
   "cell_type": "markdown",
   "id": "medical-might",
   "metadata": {},
   "source": [
    "### So we can see that  \"berries\" are often associated with \"whipped/sour cream\" in  shopping baskets"
   ]
  },
  {
   "cell_type": "code",
   "execution_count": null,
   "id": "blessed-private",
   "metadata": {},
   "outputs": [],
   "source": []
  }
 ],
 "metadata": {
  "kernelspec": {
   "display_name": "Python 3 (ipykernel)",
   "language": "python",
   "name": "python3"
  },
  "language_info": {
   "codemirror_mode": {
    "name": "ipython",
    "version": 3
   },
   "file_extension": ".py",
   "mimetype": "text/x-python",
   "name": "python",
   "nbconvert_exporter": "python",
   "pygments_lexer": "ipython3",
   "version": "3.9.13"
  }
 },
 "nbformat": 4,
 "nbformat_minor": 5
}
