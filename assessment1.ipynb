{
 "cells": [
  {
   "cell_type": "markdown",
   "id": "9c970955-3a2c-4513-b799-fb3538465339",
   "metadata": {
    "deletable": false,
    "editable": false,
    "nbgrader": {
     "cell_type": "markdown",
     "checksum": "f699fa6b29f8919d5c820ec5b3edf293",
     "grade": false,
     "grade_id": "cell-6098d0c55a8d8c14",
     "locked": true,
     "schema_version": 3,
     "solution": false,
     "task": false
    }
   },
   "source": [
    "# Assessment 1"
   ]
  },
  {
   "cell_type": "markdown",
   "id": "2b11ec85-37de-4f2c-be13-cad8442fcf8f",
   "metadata": {
    "deletable": false,
    "editable": false,
    "nbgrader": {
     "cell_type": "markdown",
     "checksum": "259e25565cc7946e21da3e5bfe181433",
     "grade": false,
     "grade_id": "cell-6ec150a06cf3de69",
     "locked": true,
     "schema_version": 3,
     "solution": false,
     "task": false
    }
   },
   "source": [
    "#### This course is assessed by two, individual, coursework exercises and the weekly quiz:\n",
    "* Quiz (5%): issued each week to assess understanding of previous weeks topics\n",
    "* Assignment 1 (25%): given out Friday 16th of Febuary & submitted via a dropbox in the Assessment area of the classes Learn page on Tuesday the 5th of March before 4pm\n",
    "* Assignment 2 (70%): given out Friday 8th of March & submitted on Tuesday the 2nd of April\n",
    "\n",
    "This notebook relates to _**Assessment 1**_\n",
    "\n",
    "If your personal circumstances (e.g. health, work pressure, caring responsibilities, etc) result in you being unable\n",
    "to complete the assignment by the due date it is essential you apply for an extension from:\n",
    "https://www.ed.ac.uk/student-administration/extensions-special-circumstances\n",
    "\n",
    "* It is expected that you discuss the assignment with tutors and lectures and ask for help with this exercise.  The more detailed the question the easier it is to help.\n",
    "  \r",
    "* \tPlease note that the University has a very strict plagiarism policy and several automated systems that check submitted work. Any submitted work must be your own but obviously, it is acceptable to base your code on examples from any sourc.\n",
    "\n",
    "* More comments (in the code) and explanation in markdown cells) more marks!\n",
    "\n",
    "* \n",
    "*It is acceptable to use Chatbots during the development and debugging of your solutions. However, \r\n",
    "after the submission date we may interview some, or all, the class to discuss the details of the code \r\n",
    "individuals have presented. You will be expected to be able to explain \r\n",
    "every line and answer questions about the impact small changes might have on the overall function..\r\n",
    "\n"
   ]
  },
  {
   "cell_type": "markdown",
   "id": "0d12d548-ca04-4dd2-9e0b-d3b141635708",
   "metadata": {
    "deletable": false,
    "editable": false,
    "nbgrader": {
     "cell_type": "markdown",
     "checksum": "d7d697a4909b0fa7753c8db083fab36e",
     "grade": false,
     "grade_id": "cell-e8ea7ae30d4a1de7",
     "locked": true,
     "schema_version": 3,
     "solution": false,
     "task": false
    }
   },
   "source": [
    "#### This assessment asks you to do the following tasks for a dataset of two CSV files we supply.\n",
    "\n",
    "0. Load the libraries (1 mark)\n",
    "   \n",
    "__Clean-up the data__\n",
    "1. Import the two .csv files into the notebook and create dataframe (2 marks)\n",
    "2. Perform initial inspection of the data (summary of the size and shape of the data) (8 marks)\n",
    "3. Change text responses (y,yes,ok etc..) into 1s or 0s (4 marks)\n",
    "4. Create a single dataframe to hold all the loaded data (2 marks)\n",
    "   \n",
    "__In the combined dataframe__\n",
    "\n",
    "5. Replace any NaN or blank values with nominal values (given in row zero) (4 marks)\n",
    "6. Convert all numbers to floats (some are integer or strings) (2 marks)\n",
    "7. Delete any duplicate rows (4 marks)\n",
    "\n",
    "__Analyse data by__\n",
    "\n",
    "8. Change the values in the data set to show the error (i.e. value less the nominal value) (4 marks)\n",
    "9. Add a new row to the dataframe that shows the average difference between nominal and actual values for each column (i.e. dimension) (4 marks)\n",
    "\n",
    "__Visualise data__\n",
    "\n",
    "10. Plot a histogram of the values calculated in step 8 (i.e. average variation of each dimension) (5 marks)\n",
    "11. Investigate if there are correlations between the variation in dimensions (you might need to create a new dataframe to do this) (10 marks)\n",
    "12. Visualise the results of the correlation investigation (10 marks)\n",
    "\n",
    "__Discuss the Data__\n",
    "\n",
    "13. Report some conclusions about the data (5 mark)"
   ]
  },
  {
   "cell_type": "markdown",
   "id": "959ac50f-a4d4-4a8e-a393-470b5fcade74",
   "metadata": {
    "deletable": false,
    "editable": false,
    "nbgrader": {
     "cell_type": "markdown",
     "checksum": "26f7ec643f98113e16ece0e8a63b4521",
     "grade": false,
     "grade_id": "cell-da760400e7e10a96",
     "locked": true,
     "schema_version": 3,
     "solution": false,
     "task": false
    }
   },
   "source": [
    "This assessment is based on the data cleaning, merging, analysis and visualisation of inspection data from a Coordinate Measuring Machine [CMM](https://en.wikipedia.org/wiki/Coordinate-measuring_machine). The data provided involves inspection data for a forged component provided in the form of two .csv files (**A1_CMM_DOE1**), and (_**A1_CMM_DOE2**_). The .csv files consists of values of 12 key dimensions and a visual inspection. The original data has been simplified to show the nominal value for each dimension, without a tolerance in the first row, However there are inconsistencies in data input, which need to be cleaned in order to analysised and visualize effectively. "
   ]
  },
  {
   "cell_type": "markdown",
   "id": "74f365ad-7199-467f-8218-e361e1901fb3",
   "metadata": {
    "deletable": false,
    "editable": false,
    "nbgrader": {
     "cell_type": "markdown",
     "checksum": "9e49c925e41e1b7a3b893cc9516bea17",
     "grade": false,
     "grade_id": "cell-9127099802387fac",
     "locked": true,
     "schema_version": 3,
     "solution": false,
     "task": false
    }
   },
   "source": [
    "![Component](https://raw.githubusercontent.com/drewsherlock/dsim_workshops/main/Picture_dataset_structure.jpg)"
   ]
  },
  {
   "cell_type": "markdown",
   "id": "f6121e3d-4bc1-4161-813b-46718e4668d4",
   "metadata": {
    "deletable": false,
    "editable": false,
    "nbgrader": {
     "cell_type": "markdown",
     "checksum": "0e0e01bcd049d86a201b75f12f81ee82",
     "grade": false,
     "grade_id": "cell-b41be3d8e4766a04",
     "locked": true,
     "schema_version": 3,
     "solution": false,
     "task": false
    }
   },
   "source": [
    "<span style=\"color:red\">\n",
    "\n",
    "__Put your anwers in the cells containing the lines:__\n",
    "\n",
    "_# YOUR CODE HERE_  \n",
    "raise NotImplementedError()\n",
    " \n",
    "__Delete the line:__  \n",
    "\n",
    "raise NotImplementedError()\n",
    "\n",
    "__Do not add or change the order of the cells__\n",
    "    \n",
    "</span>"
   ]
  },
  {
   "cell_type": "markdown",
   "id": "8eedcd3d-8d83-4c54-b838-376930fe1253",
   "metadata": {
    "deletable": false,
    "editable": false,
    "nbgrader": {
     "cell_type": "markdown",
     "checksum": "edb41b02f27ce5895562db91a51814b3",
     "grade": false,
     "grade_id": "cell-4f4efbe53a5a45bb",
     "locked": true,
     "schema_version": 3,
     "solution": false,
     "task": false
    }
   },
   "source": [
    "### Step 0: \n",
    "Load the pandas and numpy libraries (as _**pd**_ and _**np**_ respectively)"
   ]
  },
  {
   "cell_type": "code",
   "execution_count": null,
   "id": "845128ba-dfad-4f46-8987-01087a92906e",
   "metadata": {
    "deletable": false,
    "nbgrader": {
     "cell_type": "code",
     "checksum": "8690b0981907d204781cf924cf1c7427",
     "grade": false,
     "grade_id": "cell-fa6a0df4831a2ba3",
     "locked": false,
     "schema_version": 3,
     "solution": true,
     "task": false
    }
   },
   "outputs": [],
   "source": [
    "# YOUR CODE HERE\n",
    "raise NotImplementedError()"
   ]
  },
  {
   "cell_type": "code",
   "execution_count": null,
   "id": "4ed3be58-3dbf-4eef-bd6d-c1f12f34047c",
   "metadata": {
    "deletable": false,
    "editable": false,
    "nbgrader": {
     "cell_type": "code",
     "checksum": "078d6f2fb78c3998fb830e783cd8a58d",
     "grade": true,
     "grade_id": "cell-72492488daf5fcbc",
     "locked": true,
     "points": 1,
     "schema_version": 3,
     "solution": false,
     "task": false
    }
   },
   "outputs": [],
   "source": [
    "# Run this cell to check if the libraries have been loaded \n",
    "\n",
    "import types\n",
    "\n",
    "try:\n",
    "    assert isinstance(pd, types.ModuleType), \"pandas has not been imported.\"\n",
    "    assert pd.__name__ == 'pandas', \"pandas has not been imported as 'pd'.\"\n",
    "    assert isinstance(np, types.ModuleType), \"numpy has not been imported.\"\n",
    "    assert np.__name__ == 'numpy', \"numpy has not been imported as 'np'.\"\n",
    "except (AssertionError, NameError) as e:\n",
    "    print(\"Error in the loading of libraries:\", str(e))\n",
    "else:\n",
    "    print(\"Well done libraries are loaded\")"
   ]
  },
  {
   "cell_type": "markdown",
   "id": "c7be5ca7-af74-47c6-8577-e7cbbf47bbee",
   "metadata": {
    "deletable": false,
    "editable": false,
    "nbgrader": {
     "cell_type": "markdown",
     "checksum": "b96ad4bfb3b1463e1a5e1ad6e2b8bc07",
     "grade": false,
     "grade_id": "cell-4142bae179b6c8a1",
     "locked": true,
     "schema_version": 3,
     "solution": false,
     "task": false
    }
   },
   "source": [
    "### Step 1: \n",
    "Import the two .csv files called A1_CMM_DOE1 and A1_CMM_DOE2 into two Pandas dataframes called _**data1**_ and _**data2**_\n",
    "URLs of the files are: \n",
    "* 'https://raw.githubusercontent.com/drewsherlock/dsim_workshops/main/A1_CMM_DOE1.csv' and\n",
    "* \r\n",
    "'https://raw.githubusercontent.com/drewsherlock/dsim_workshops/main/A1_CMM_DOE2.csv'"
   ]
  },
  {
   "cell_type": "code",
   "execution_count": null,
   "id": "8cddb129-436c-4ceb-bef4-0da02ad71183",
   "metadata": {
    "deletable": false,
    "nbgrader": {
     "cell_type": "code",
     "checksum": "eede5e8463afdaa5479e1fa1b10c7f19",
     "grade": false,
     "grade_id": "cell-fb4eb9ffc9d882ae",
     "locked": false,
     "schema_version": 3,
     "solution": true,
     "task": false
    }
   },
   "outputs": [],
   "source": [
    "# Import the two .csv files you have been given into two dataframes called data1 and data2 \n",
    "\n",
    "# YOUR CODE HERE\n",
    "raise NotImplementedError()"
   ]
  },
  {
   "cell_type": "code",
   "execution_count": null,
   "id": "46f83d64-460e-4644-b6b6-aa7e16edd844",
   "metadata": {
    "deletable": false,
    "editable": false,
    "nbgrader": {
     "cell_type": "code",
     "checksum": "5d59ec56b2e09364cacaf13b67c24070",
     "grade": true,
     "grade_id": "cell-77e9334d360e645b",
     "locked": true,
     "points": 2,
     "schema_version": 3,
     "solution": false,
     "task": false
    }
   },
   "outputs": [],
   "source": [
    "# Run this cell to test if the data has been correctly loaded \n",
    "# Note that the test is not checking which datasets have been loaded, only that something has been loaded\n",
    "\n",
    "try:\n",
    "    assert isinstance(data1, pd.DataFrame), \"data1 not found. Make sure you've imported the CSV to a DataFrame named data1.\"\n",
    "    assert isinstance(data2, pd.DataFrame), \"data2 not found. Make sure you've imported the CSV to a DataFrame named data2.\"\n",
    "except (AssertionError, NameError) as e:\n",
    "    print(\"Error in the loading of CSV files:\", str(e))\n",
    "else:\n",
    "    print(\"Variables data1 and data2 refer to dataframes\")\n"
   ]
  },
  {
   "cell_type": "markdown",
   "id": "fd072c24-3aec-4c61-8451-de3a99bd8304",
   "metadata": {
    "deletable": false,
    "editable": false,
    "nbgrader": {
     "cell_type": "markdown",
     "checksum": "c292eeb26db057e609e063a2f57abd9f",
     "grade": false,
     "grade_id": "cell-d04f073328091ca6",
     "locked": true,
     "schema_version": 3,
     "solution": false,
     "task": false
    }
   },
   "source": [
    "### Step 2: \r\n",
    "Perform initial inspection of the data in data1 and data2 by: \r\n",
    "\r\n",
    "* Assign the number of rows (r) and columns (c) of each dataframe to the variables: _**data1_r, data1_c**_ & _**data2_r, data2_c**_ \r\n",
    "\r\n",
    "* Assign a dataframe containing the first 4 rows of the each dataset to the variable _**data1_h**_ and _**data2_h**_ .\r\n",
    "\r\n",
    "* Create two lists with variable names _**data1_cols**_ and _**data2_cols**_  that contain the column labels of _**data1**_ and _**data2**_ \r\n",
    "\r\n",
    "* Summarizes the numerical values in the dataframes using the “describe” function and assign the re_**data1_des**_ and _**data2_des**_\n",
    "    \r\n",
    "                                                                                                        "
   ]
  },
  {
   "cell_type": "code",
   "execution_count": null,
   "id": "ad5c07df-7aea-450e-a9d9-6ea8f5359ea0",
   "metadata": {
    "deletable": false,
    "nbgrader": {
     "cell_type": "code",
     "checksum": "b9f5145b04be58bdbb9e73e34c7d8615",
     "grade": false,
     "grade_id": "cell-14c64a2268bf073c",
     "locked": false,
     "schema_version": 3,
     "solution": true,
     "task": false
    }
   },
   "outputs": [],
   "source": [
    "# YOUR CODE HERE\n",
    "raise NotImplementedError()"
   ]
  },
  {
   "cell_type": "code",
   "execution_count": null,
   "id": "145bbf82-eb10-4647-b139-f8269e4527a5",
   "metadata": {
    "deletable": false,
    "editable": false,
    "nbgrader": {
     "cell_type": "code",
     "checksum": "ef91ab92328fcfabcf563522e946f263",
     "grade": true,
     "grade_id": "cell-4fd2f67746959926",
     "locked": true,
     "points": 8,
     "schema_version": 3,
     "solution": false,
     "task": false
    }
   },
   "outputs": [],
   "source": [
    "try:\n",
    "# check the number of rows and columns are correct\n",
    "    assert (data1_r, data1_c) == data1.shape, \"data1_r and/or data1_c not found or incorrect\"\n",
    "    assert (data2_r, data2_c) == data2.shape, \"data2_r and/or data2_c not found or incorrect\"\n",
    "\n",
    "# check heads of data1 and data2\n",
    "    assert data1_h.equals(data1.head(4)), \"Head of data1 is incorrect\"\n",
    "    assert data2_h.equals(data2.head(4)), \"Head of data1 is incorrect\"\n",
    "\n",
    "# Check list of column names of each data frame to data1_cols and data2_cols\n",
    "    assert data1_cols == data1.columns.tolist(), \"data1 Coloumn list is incorrect\"\n",
    "    assert data2_cols == data2.columns.tolist(), \"data2 Coloumn list is incorrect\"\n",
    "\n",
    "# Summarize the numerical values in the data frames using the \"describe\" function\n",
    "    assert data1_des.equals(data1.describe()), \"data1 description is wrong\"\n",
    "    assert data2_des.equals(data2.describe()), \"data2 description is wrong\"\n",
    "\n",
    "except (AssertionError, NameError) as e:\n",
    "    print(\"Error in inspecting the data:\", str(e))\n",
    "else:\n",
    "    print(\"The content of the dataframes has been described\")\n"
   ]
  },
  {
   "cell_type": "markdown",
   "id": "30b39670-1caa-44fd-9097-c16dc182fbd9",
   "metadata": {
    "deletable": false,
    "editable": false,
    "nbgrader": {
     "cell_type": "markdown",
     "checksum": "fdbb5d7c3a760bb2a8ee49feea5fb137",
     "grade": false,
     "grade_id": "cell-60e5f1583ee83cc1",
     "locked": true,
     "schema_version": 3,
     "solution": false,
     "task": false
    }
   },
   "source": [
    "### Step 3 : \n",
    "\n",
    "From each dataframe ( _**data1**_ and _**data2**_ ) change all the text strings in the last column to the 1 if they are \"Y\", \"y\", \"Yes\", \"yes\", \"ok\",\"okay\" or \"Okay\" and 0 if they have the value \"N\", \"n\", \"No\", \"no\".\\es())"
   ]
  },
  {
   "cell_type": "code",
   "execution_count": null,
   "id": "05edbde8-a926-4f1a-ac9f-41d350bfd33d",
   "metadata": {
    "deletable": false,
    "nbgrader": {
     "cell_type": "code",
     "checksum": "49f61980468380a64d36712678942a0a",
     "grade": false,
     "grade_id": "cell-7a32c4519ae73632",
     "locked": false,
     "schema_version": 3,
     "solution": true,
     "task": false
    }
   },
   "outputs": [],
   "source": [
    "# YOUR CODE HERE\n",
    "raise NotImplementedError()"
   ]
  },
  {
   "cell_type": "code",
   "execution_count": null,
   "id": "16733a48-1d32-43e6-826e-c8dd045726e1",
   "metadata": {
    "deletable": false,
    "editable": false,
    "nbgrader": {
     "cell_type": "code",
     "checksum": "4ea8e86717914517c6354ad0dc70fa9a",
     "grade": true,
     "grade_id": "cell-bc9b16a6fa554f46",
     "locked": true,
     "points": 4,
     "schema_version": 3,
     "solution": false,
     "task": false
    }
   },
   "outputs": [],
   "source": [
    "# Check Solution\n",
    "try:\n",
    "    # Check if all values in last column  are either 1 or 0\n",
    "    data1condition1 = (data1.iloc[:, -1] == 1).all()\n",
    "    data1condition2 = (data1.iloc[:, -1] == 0).all()\n",
    "    assert (not data1condition1  | data1condition2), \"Text values still exist in last column of data1.\"\n",
    "    \n",
    "    # Check if all values in last column  are either 1 or 0\n",
    "    data2condition1 = (data2.iloc[:, -1] == 1).all()\n",
    "    data2condition2 = (data2.iloc[:, -1] == 0).all()\n",
    "    assert (not data2condition1 | data2condition2), \"Text values still exist in last column of data1.\"\n",
    "\n",
    "except (AssertionError, NameError) as e:\n",
    "    print(\"Error the processing of the last column (text values remain:\", str(e))\n",
    "else:\n",
    "    print(\"Well done text in both dataframes has been converted to 1s and 0s\")"
   ]
  },
  {
   "cell_type": "markdown",
   "id": "38caf91f-f4f2-4f54-8a21-2518d76b24e0",
   "metadata": {
    "deletable": false,
    "editable": false,
    "nbgrader": {
     "cell_type": "markdown",
     "checksum": "b7f00163485192613e27abb49faae542",
     "grade": false,
     "grade_id": "cell-0f353fb71a65288e",
     "locked": true,
     "schema_version": 3,
     "solution": false,
     "task": false
    }
   },
   "source": [
    "### Step 4 : \n",
    "\n",
    "Combine the two dataframes _**data1**_ and _**data2**_ and call the result _**data3**_ "
   ]
  },
  {
   "cell_type": "code",
   "execution_count": null,
   "id": "4adb4dbe-93c5-4ba8-be8b-6d2acfc7d3c3",
   "metadata": {
    "deletable": false,
    "nbgrader": {
     "cell_type": "code",
     "checksum": "f664c0f3b8405301772ff01688171702",
     "grade": false,
     "grade_id": "cell-4c835031a49d019e",
     "locked": false,
     "schema_version": 3,
     "solution": true,
     "task": false
    }
   },
   "outputs": [],
   "source": [
    "# YOUR CODE HERE\n",
    "raise NotImplementedError()"
   ]
  },
  {
   "cell_type": "code",
   "execution_count": null,
   "id": "dc13cdad-bb38-454f-ada9-dbe677fe8bf0",
   "metadata": {
    "deletable": false,
    "editable": false,
    "nbgrader": {
     "cell_type": "code",
     "checksum": "d59c24fc40cd3fea1315c2fbd3f09d41",
     "grade": true,
     "grade_id": "cell-0d857ce2ffe16d03",
     "locked": true,
     "points": 2,
     "schema_version": 3,
     "solution": false,
     "task": false
    }
   },
   "outputs": [],
   "source": [
    "# Check Solution\n",
    "try:\n",
    "    assert data3.shape[0] == 101, \"Number of rows does not match expected value (101).\"\n",
    "    assert data3.shape[1] == 14, \"Number of columns does not match expected value (14).\"\n",
    "    \n",
    "except (AssertionError, NameError) as e:\n",
    "    print(\"Error data3 does not refer to a dataframe or shape is worng\", str(e))\n",
    "else:\n",
    "    print(\"data3 has been created and has the right shape!\")"
   ]
  },
  {
   "cell_type": "markdown",
   "id": "f3141d23-aab1-4e6d-b427-517a86c2d556",
   "metadata": {
    "deletable": false,
    "editable": false,
    "nbgrader": {
     "cell_type": "markdown",
     "checksum": "658ebd8f09f838390864b2e10434ccd6",
     "grade": false,
     "grade_id": "cell-852a2d0168fa32b6",
     "locked": true,
     "schema_version": 3,
     "solution": false,
     "task": false
    }
   },
   "source": [
    "### Step 5:  \n",
    "\n",
    "Replace any _**NaN**_ and _**Blanks**_ in _**data3**_ with the __nominal value__ of the dimension"
   ]
  },
  {
   "cell_type": "code",
   "execution_count": null,
   "id": "2b7b3788-6ccc-4afa-b69d-b6157e64fafe",
   "metadata": {
    "deletable": false,
    "nbgrader": {
     "cell_type": "code",
     "checksum": "b5eed5fbb905a7fc073520c6707b9032",
     "grade": false,
     "grade_id": "cell-ea39b6bfe3765670",
     "locked": false,
     "schema_version": 3,
     "solution": true,
     "task": false
    }
   },
   "outputs": [],
   "source": [
    "# YOUR CODE HERE\n",
    "raise NotImplementedError()"
   ]
  },
  {
   "cell_type": "code",
   "execution_count": null,
   "id": "866248ee-d727-4cca-809d-038b90c37a76",
   "metadata": {
    "deletable": false,
    "editable": false,
    "nbgrader": {
     "cell_type": "code",
     "checksum": "16451f67278adce4eb20911626f23827",
     "grade": true,
     "grade_id": "cell-570993753bf0474b",
     "locked": true,
     "points": 4,
     "schema_version": 3,
     "solution": false,
     "task": false
    }
   },
   "outputs": [],
   "source": [
    "# Check solution\n",
    "try: \n",
    "    assert data3.iloc[20,2] == 42.0, \"Test NaN value has been replaced.\"\n",
    "\n",
    "except (AssertionError, NameError) as e:\n",
    "    print(\"Still NaNs and blancks in dataframe data3\", str(e))\n",
    "else:\n",
    "    print(\"Great, the blanks and NaNs have been filled\")"
   ]
  },
  {
   "cell_type": "markdown",
   "id": "1de3b937-df45-4b96-9962-1b0386114d94",
   "metadata": {
    "deletable": false,
    "editable": false,
    "nbgrader": {
     "cell_type": "markdown",
     "checksum": "59746428c86de1ebfdd494e85a00555d",
     "grade": false,
     "grade_id": "cell-0f4d351fe182b611",
     "locked": true,
     "schema_version": 3,
     "solution": false,
     "task": false
    }
   },
   "source": [
    "### Step 6: \n",
    "Convert to numbers (i.e. floats) all the number values in _**data3**_  (recall some values look like numbers, but are actually string types).\n",
    "See https://study.com/academy/lesson/data-types-in-programming-numbers-strings-and-others.html for data type introduction"
   ]
  },
  {
   "cell_type": "code",
   "execution_count": null,
   "id": "10b88e1b-396a-4c80-b496-909418e99456",
   "metadata": {
    "deletable": false,
    "nbgrader": {
     "cell_type": "code",
     "checksum": "af1574104ca96329ab6a1ca1f878964b",
     "grade": false,
     "grade_id": "cell-b3f2b5b9f4a7225a",
     "locked": false,
     "schema_version": 3,
     "solution": true,
     "task": false
    }
   },
   "outputs": [],
   "source": [
    "# YOUR CODE HERE\n",
    "raise NotImplementedError()"
   ]
  },
  {
   "cell_type": "code",
   "execution_count": null,
   "id": "8890d8c2-6d88-4c59-8cbd-9a5323acf3ed",
   "metadata": {
    "deletable": false,
    "editable": false,
    "nbgrader": {
     "cell_type": "code",
     "checksum": "b89658524c92fd113e6e47d8da080ddd",
     "grade": true,
     "grade_id": "cell-0a7ffd1624a3969e",
     "locked": true,
     "points": 2,
     "schema_version": 3,
     "solution": false,
     "task": false
    }
   },
   "outputs": [],
   "source": [
    "# Check if all values are float data type\n",
    "try:\n",
    "    assert data3.dtypes.eq(float).all(), \"data3 still contains values that are not floating point numbers.\"\n",
    "    \n",
    "except (AssertionError, NameError) as e:\n",
    "    print(\"There are still some none numerical values in the data frame\", str(e))\n",
    "else:\n",
    "    print(\"Hooray the data3 dataset is looking good with only numbers in it\")\n"
   ]
  },
  {
   "cell_type": "markdown",
   "id": "dc790df1-ae31-4b60-98a4-5b2e52f0414c",
   "metadata": {
    "deletable": false,
    "editable": false,
    "nbgrader": {
     "cell_type": "markdown",
     "checksum": "70dba7b3a3cd3f3f1e3352c3e4c666b2",
     "grade": false,
     "grade_id": "cell-57b781d4a63430e9",
     "locked": true,
     "schema_version": 3,
     "solution": false,
     "task": false
    }
   },
   "source": [
    "## Step 7: \n",
    "Delete any rows in _**data3**_ with exactly the same values in all the columns (i.e. duplicates)"
   ]
  },
  {
   "cell_type": "code",
   "execution_count": null,
   "id": "7492002e-55ba-4c00-bae3-586a9a713338",
   "metadata": {
    "deletable": false,
    "nbgrader": {
     "cell_type": "code",
     "checksum": "f8bb75a2f287a974ad4485f5e6b158fa",
     "grade": false,
     "grade_id": "cell-1d7ac373c2517a03",
     "locked": false,
     "schema_version": 3,
     "solution": true,
     "task": false
    }
   },
   "outputs": [],
   "source": [
    "# YOUR CODE HERE\n",
    "raise NotImplementedError()"
   ]
  },
  {
   "cell_type": "code",
   "execution_count": null,
   "id": "6ffbda0e-ed3d-40dc-9535-431a9210e540",
   "metadata": {
    "deletable": false,
    "editable": false,
    "nbgrader": {
     "cell_type": "code",
     "checksum": "99c6e107e1641fc3e9d624b11937078e",
     "grade": true,
     "grade_id": "cell-4f19169fcbfee335",
     "locked": true,
     "points": 4,
     "schema_version": 3,
     "solution": false,
     "task": false
    }
   },
   "outputs": [],
   "source": [
    "# Check Solution\n",
    "try:\n",
    "    assert not data3.duplicated().any(), \"Duplicate rows or columns still exist in data3.\" \n",
    "    \n",
    "except (AssertionError, NameError) as e:\n",
    "    print(\"There are still duplicate rows in the data frame\", str(e))\n",
    "else:\n",
    "    print(\"Hooray the data3 dataset is ready to be analysed\")"
   ]
  },
  {
   "cell_type": "markdown",
   "id": "cf4a1b9a-41bf-423a-b7dc-0e6535715d50",
   "metadata": {
    "deletable": false,
    "editable": false,
    "nbgrader": {
     "cell_type": "markdown",
     "checksum": "a63b2d89ff33fef1d325f35ee1271f0b",
     "grade": false,
     "grade_id": "cell-1bf55d6e1dde7d5f",
     "locked": true,
     "schema_version": 3,
     "solution": false,
     "task": false
    }
   },
   "source": [
    "### Step 8: \n",
    "\n",
    "_**Analysis 1**_:  Update the values in **data3** so they show the __difference__ between nominal and actual vaules "
   ]
  },
  {
   "cell_type": "code",
   "execution_count": null,
   "id": "8a14c597-bd6b-400a-9790-fc2666745731",
   "metadata": {
    "deletable": false,
    "nbgrader": {
     "cell_type": "code",
     "checksum": "854d1a6f374c9c2be20604e1e55e0612",
     "grade": false,
     "grade_id": "cell-adaa0e90fb695d27",
     "locked": false,
     "schema_version": 3,
     "solution": true,
     "task": false
    }
   },
   "outputs": [],
   "source": [
    "# YOUR CODE HERE\n",
    "raise NotImplementedError()"
   ]
  },
  {
   "cell_type": "code",
   "execution_count": null,
   "id": "73463b92-d645-41c9-88cb-94d6b80cf700",
   "metadata": {
    "deletable": false,
    "editable": false,
    "nbgrader": {
     "cell_type": "code",
     "checksum": "e6a03aa7d0f982b02dd175a607fca21e",
     "grade": true,
     "grade_id": "cell-f76c6dc580098487",
     "locked": true,
     "points": 4,
     "schema_version": 3,
     "solution": false,
     "task": false
    }
   },
   "outputs": [],
   "source": [
    "# Check Solution\n",
    "try:\n",
    "    assert data3.iloc[2,2] < 1.0,  \"Values in data3 appear unchanged\" \n",
    "\n",
    "except (AssertionError, NameError) as e:\n",
    "    print(\"The numbers in data3 should be mostly less than 1\", str(e))\n",
    "else:\n",
    "    print(\"Hooray data3 is showing the errors (not the actual values) \")\n"
   ]
  },
  {
   "cell_type": "markdown",
   "id": "be5746db-6e16-4402-8964-587824cc5d0b",
   "metadata": {
    "deletable": false,
    "editable": false,
    "nbgrader": {
     "cell_type": "markdown",
     "checksum": "6022be004382c03fc3b5c85cf849ba0a",
     "grade": false,
     "grade_id": "cell-7bb85d0e6c6f9129",
     "locked": true,
     "schema_version": 3,
     "solution": false,
     "task": false
    }
   },
   "source": [
    "### Step 9: \n",
    "\n",
    "_**Analysis 2**_:  Add a new row to the dataframe that shows the _**average difference**_ between nominal and actual values, for each column (i.e. dimension)"
   ]
  },
  {
   "cell_type": "code",
   "execution_count": null,
   "id": "a424aaaa-f13d-48ca-9961-e8d20767c903",
   "metadata": {
    "deletable": false,
    "nbgrader": {
     "cell_type": "code",
     "checksum": "90f26140b58320ae4cd0c124f4e9bb16",
     "grade": false,
     "grade_id": "cell-ea49c3b1c70e38bf",
     "locked": false,
     "schema_version": 3,
     "solution": true,
     "task": false
    }
   },
   "outputs": [],
   "source": [
    "# YOUR CODE HERE\n",
    "raise NotImplementedError()"
   ]
  },
  {
   "cell_type": "code",
   "execution_count": null,
   "id": "1231651d-5187-47f8-b144-9e67cc54ac19",
   "metadata": {
    "deletable": false,
    "editable": false,
    "nbgrader": {
     "cell_type": "code",
     "checksum": "6a362a985c699b2f0b981e76eaedf50e",
     "grade": true,
     "grade_id": "cell-6e0d432cf3240bd8",
     "locked": true,
     "points": 4,
     "schema_version": 3,
     "solution": false,
     "task": false
    }
   },
   "outputs": [],
   "source": [
    "# Check Solution\n",
    "try: \n",
    "    assert data3.shape[0] == 98, \"The number of rows doesn look right\"\n",
    "    \n",
    "except (AssertionError, NameError) as e:\n",
    "    print(\"The number of rows in data3 has not changed\", str(e))\n",
    "else:\n",
    "    print(\"Hooray data3 has a new row \")\n"
   ]
  },
  {
   "cell_type": "markdown",
   "id": "fcc0f1ae-ade7-4628-829e-259156383186",
   "metadata": {
    "deletable": false,
    "editable": false,
    "nbgrader": {
     "cell_type": "markdown",
     "checksum": "a2ebc7c81f37196c2209232d97d1ddf9",
     "grade": false,
     "grade_id": "cell-2ddd044b8999519a",
     "locked": true,
     "schema_version": 3,
     "solution": false,
     "task": false
    }
   },
   "source": [
    "### Step 10: \n",
    "\n",
    "Visualize the relative variability of the dimensions by plotting a histogram of the values in bottom row (the one which was added in the previous step). Don't include the values of the last column in the plot (e.g. ok, yes, NO, n, Okay etc)"
   ]
  },
  {
   "cell_type": "code",
   "execution_count": null,
   "id": "c0cfd10d-04d2-4559-b68a-baaff42426aa",
   "metadata": {
    "deletable": false,
    "nbgrader": {
     "cell_type": "code",
     "checksum": "ca56b740febcfdb696303ed8c6bb696b",
     "grade": true,
     "grade_id": "cell-d1b928ebc4a33075",
     "locked": false,
     "points": 5,
     "schema_version": 3,
     "solution": true,
     "task": false
    }
   },
   "outputs": [],
   "source": [
    "# YOUR CODE HERE\n",
    "raise NotImplementedError()"
   ]
  },
  {
   "cell_type": "markdown",
   "id": "c074e40a-3e3d-40a0-95b2-652aad3fc5fe",
   "metadata": {
    "deletable": false,
    "editable": false,
    "nbgrader": {
     "cell_type": "markdown",
     "checksum": "f8bb34fda639e929c30b26f2f9b44ed2",
     "grade": false,
     "grade_id": "cell-f6e183b0651a3ddf",
     "locked": true,
     "schema_version": 3,
     "solution": false,
     "task": false
    }
   },
   "source": [
    "### Step 11: \n",
    "**Analysis 3** Investigate if there are correlations between the size of variations (i.e. errors) in dimensions \r\n",
    "(you might need to create a new dataframe to do this)"
   ]
  },
  {
   "cell_type": "code",
   "execution_count": null,
   "id": "86d8f0fb-7c08-4c79-8a48-db6f66c0e49a",
   "metadata": {
    "deletable": false,
    "nbgrader": {
     "cell_type": "code",
     "checksum": "199c5af59106a6fbc0b46864cb6b67e3",
     "grade": true,
     "grade_id": "cell-1fad1ce69cca74fb",
     "locked": false,
     "points": 10,
     "schema_version": 3,
     "solution": true,
     "task": false
    }
   },
   "outputs": [],
   "source": [
    "# YOUR CODE HERE\n",
    "raise NotImplementedError()"
   ]
  },
  {
   "cell_type": "markdown",
   "id": "3a82a436-df42-43a4-aa78-a8b0dc649e9b",
   "metadata": {
    "deletable": false,
    "editable": false,
    "nbgrader": {
     "cell_type": "markdown",
     "checksum": "b1acd02e875139797a16aaba5aaf28a8",
     "grade": false,
     "grade_id": "cell-a1c46deb273d1525",
     "locked": true,
     "schema_version": 3,
     "solution": false,
     "task": false
    }
   },
   "source": [
    "### Step 12:\n",
    "Visualise the results of the correlation investigation"
   ]
  },
  {
   "cell_type": "code",
   "execution_count": null,
   "id": "f9e2747e-6b2d-449b-a2ed-b4eed2abee21",
   "metadata": {
    "deletable": false,
    "nbgrader": {
     "cell_type": "code",
     "checksum": "cc9c3bf16c7611d7df6f9d2c22d9e6d1",
     "grade": true,
     "grade_id": "cell-ae407b36377d4c09",
     "locked": false,
     "points": 10,
     "schema_version": 3,
     "solution": true,
     "task": false
    }
   },
   "outputs": [],
   "source": [
    "# YOUR CODE HERE\n",
    "raise NotImplementedError()"
   ]
  },
  {
   "cell_type": "markdown",
   "id": "9fea3391-7330-430e-af13-410a47d55281",
   "metadata": {
    "deletable": false,
    "editable": false,
    "nbgrader": {
     "cell_type": "markdown",
     "checksum": "9eba485d7960731efbb01d03a699e916",
     "grade": false,
     "grade_id": "cell-d96aaa3188038aa7",
     "locked": true,
     "schema_version": 3,
     "solution": false,
     "task": false
    }
   },
   "source": [
    "### Step 13:\n",
    "\n",
    "Suggest 3 conclusions that can be drawn from this dataset, write your conclusions in the cell below using the markdown language to format your text"
   ]
  },
  {
   "cell_type": "markdown",
   "id": "36f27eb4-d4f2-42e8-9e2f-815022182fe1",
   "metadata": {
    "deletable": false,
    "nbgrader": {
     "cell_type": "markdown",
     "checksum": "fe1c0315796b1e3a3f3ff02e8d41d253",
     "grade": true,
     "grade_id": "cell-1fc34e64e068fdab",
     "locked": false,
     "points": 5,
     "schema_version": 3,
     "solution": true,
     "task": false
    }
   },
   "source": [
    "YOUR ANSWER HERE"
   ]
  }
 ],
 "metadata": {
  "kernelspec": {
   "display_name": "Python 3 (ipykernel)",
   "language": "python",
   "name": "python3"
  },
  "language_info": {
   "codemirror_mode": {
    "name": "ipython",
    "version": 3
   },
   "file_extension": ".py",
   "mimetype": "text/x-python",
   "name": "python",
   "nbconvert_exporter": "python",
   "pygments_lexer": "ipython3",
   "version": "3.11.5"
  }
 },
 "nbformat": 4,
 "nbformat_minor": 5
}
