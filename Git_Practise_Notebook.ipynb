{
 "cells": [
  {
   "cell_type": "markdown",
   "id": "3500d929",
   "metadata": {},
   "source": [
    "# DSiM Course Git Practise Notebook"
   ]
  },
  {
   "cell_type": "markdown",
   "id": "2513bb31",
   "metadata": {},
   "source": [
    "If you have made it to here you have managed to clone the dsim_workshops repo from Gihub - well done!"
   ]
  },
  {
   "cell_type": "markdown",
   "id": "017985b0",
   "metadata": {},
   "source": [
    "Next, use print() to write your name in the cell below and add any comments on how good (or bad) this course is."
   ]
  },
  {
   "cell_type": "code",
   "execution_count": 1,
   "id": "0bc1e6d7",
   "metadata": {},
   "outputs": [
    {
     "name": "stdout",
     "output_type": "stream",
     "text": [
      "My name is Andrew Sherlock, and I think the course is excellent\n"
     ]
    }
   ],
   "source": [
    "print('My name is Andrew Sherlock, and I think the course is excellent')"
   ]
  },
  {
   "attachments": {},
   "cell_type": "markdown",
   "id": "422357fb",
   "metadata": {},
   "source": [
    "Now use git in the terminal to add, commit and push to a new branch your amended notebook back up to Github (use your github username as the branch name)."
   ]
  },
  {
   "cell_type": "markdown",
   "id": "5eb1c924",
   "metadata": {},
   "source": [
    "Your buddy should add a reply comment below (keep it clean!):"
   ]
  },
  {
   "cell_type": "code",
   "execution_count": null,
   "id": "7a4b6309",
   "metadata": {},
   "outputs": [],
   "source": []
  }
 ],
 "metadata": {
  "kernelspec": {
   "display_name": "Python 3 (ipykernel)",
   "language": "python",
   "name": "python3"
  },
  "language_info": {
   "codemirror_mode": {
    "name": "ipython",
    "version": 3
   },
   "file_extension": ".py",
   "mimetype": "text/x-python",
   "name": "python",
   "nbconvert_exporter": "python",
   "pygments_lexer": "ipython3",
   "version": "3.8.13"
  }
 },
 "nbformat": 4,
 "nbformat_minor": 5
}
