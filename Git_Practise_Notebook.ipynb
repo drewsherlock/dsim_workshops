{
 "cells": [
  {
   "cell_type": "markdown",
   "id": "1a271be7",
   "metadata": {},
   "source": [
    "# DSiM Course Git Practise Notebook"
   ]
  },
  {
   "cell_type": "markdown",
   "id": "e035181e",
   "metadata": {},
   "source": [
    "If you have made it to here you have managed to clone the dsim_workshops repo from Gihub - well done!"
   ]
  },
  {
   "cell_type": "markdown",
   "id": "83e795e9",
   "metadata": {},
   "source": [
    "Next, use print() to write your name in the cell below and add any comments on how good (or bad) this course is."
   ]
  },
  {
   "cell_type": "code",
   "execution_count": null,
   "id": "4ca317e8",
   "metadata": {},
   "outputs": [],
   "source": []
  },
  {
   "attachments": {},
   "cell_type": "markdown",
   "id": "7751e794",
   "metadata": {},
   "source": [
    "Now use git in the terminal to add, commit and push to a new branch your amended notebook back up to Github (use your github username as the branch name)."
   ]
  }
 ],
 "metadata": {
  "kernelspec": {
   "display_name": "Python 3 (ipykernel)",
   "language": "python",
   "name": "python3"
  },
  "language_info": {
   "codemirror_mode": {
    "name": "ipython",
    "version": 3
   },
   "file_extension": ".py",
   "mimetype": "text/x-python",
   "name": "python",
   "nbconvert_exporter": "python",
   "pygments_lexer": "ipython3",
   "version": "3.8.13"
  }
 },
 "nbformat": 4,
 "nbformat_minor": 5
}
