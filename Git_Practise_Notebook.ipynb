{
 "cells": [
  {
   "cell_type": "markdown",
   "id": "0bc438ed",
   "metadata": {},
   "source": [
    "# DSiM Course Git Practise Notebook"
   ]
  },
  {
   "cell_type": "markdown",
   "id": "c90e8602",
   "metadata": {},
   "source": [
    "If you have made it to here you have managed to clone the dsim_workshops repo from Gihub - well done!"
   ]
  },
  {
   "cell_type": "markdown",
   "id": "3ff5dec7",
   "metadata": {},
   "source": [
    "Next, use print() to write your name in the cell below and add any comments on how good (or bad) this course is."
   ]
  },
  {
   "cell_type": "code",
   "execution_count": 1,
   "id": "5332070c",
   "metadata": {},
   "outputs": [
    {
     "name": "stdout",
     "output_type": "stream",
     "text": [
      "Niall Duncanson\n"
     ]
    }
   ],
   "source": [
    "print('Niall Duncanson')"
   ]
  },
  {
   "cell_type": "markdown",
   "id": "73e70c84",
   "metadata": {},
   "source": [
    "Now use git in the terminal to add, commit and push to a new branch your amended notebook back up to Github (use your github username as the branch name)."
   ]
  },
  {
   "cell_type": "markdown",
   "id": "4f7f3628",
   "metadata": {},
   "source": [
    "Your buddy should add a reply comment below (keep it clean!):"
   ]
  },
  {
   "cell_type": "code",
   "execution_count": 1,
   "id": "e5065aa3",
   "metadata": {},
   "outputs": [
    {
     "name": "stdout",
     "output_type": "stream",
     "text": [
      "Hi , this is a return comment.\n"
     ]
    }
   ],
   "source": [
    "print (\n",
    "'Hi , this is a return comment.')\n",
    "\n"
   ]
  },
  {
   "cell_type": "markdown",
   "id": "235b74ce",
   "metadata": {},
   "source": [
    "<h1>and a new cell</h1>"
   ]
  }
 ],
 "metadata": {
  "kernelspec": {
   "display_name": "Python 3",
   "language": "python",
   "name": "python3"
  },
  "language_info": {
   "codemirror_mode": {
    "name": "ipython",
    "version": 3
   },
   "file_extension": ".py",
   "mimetype": "text/x-python",
   "name": "python",
   "nbconvert_exporter": "python",
   "pygments_lexer": "ipython3",
   "version": "3.9.1"
  },
  "vscode": {
   "interpreter": {
    "hash": "9d70830c6997c2d4dc256bb5cc3643f475b3ad28b1806a1c7047afc371d6d61d"
   }
  }
 },
 "nbformat": 4,
 "nbformat_minor": 5
}
