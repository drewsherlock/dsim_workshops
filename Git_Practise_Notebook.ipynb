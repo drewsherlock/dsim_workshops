{
 "cells": [
  {
   "cell_type": "markdown",
   "id": "ae29c4d8",
   "metadata": {},
   "source": [
    "# DSiM Course Git Practise Notebook"
   ]
  },
  {
   "cell_type": "markdown",
   "id": "b7ebf3f1",
   "metadata": {},
   "source": [
    "If you have made it to here you have managed to clone the dsim_workshops repo from Gihub - well done!"
   ]
  },
  {
   "cell_type": "markdown",
   "id": "bf414493",
   "metadata": {},
   "source": [
    "Next, use print() to write your name in the cell below and add any comments on how good (or bad) this course is."
   ]
  },
  {
   "cell_type": "code",
   "execution_count": null,
   "id": "70de0eba",
   "metadata": {},
   "outputs": [],
   "source": []
  },
  {
   "cell_type": "markdown",
   "id": "c22f34b5",
   "metadata": {},
   "source": [
    "Now use git in the terminal to add, commit and push to a new branch your amended notebook back up to Github (use your matric number as the branch name)."
   ]
  }
 ],
 "metadata": {
  "kernelspec": {
   "display_name": "Python 3 (ipykernel)",
   "language": "python",
   "name": "python3"
  },
  "language_info": {
   "codemirror_mode": {
    "name": "ipython",
    "version": 3
   },
   "file_extension": ".py",
   "mimetype": "text/x-python",
   "name": "python",
   "nbconvert_exporter": "python",
   "pygments_lexer": "ipython3",
   "version": "3.8.13"
  }
 },
 "nbformat": 4,
 "nbformat_minor": 5
}
